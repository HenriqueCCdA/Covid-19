{
 "cells": [
  {
   "cell_type": "code",
   "execution_count": 1,
   "metadata": {},
   "outputs": [],
   "source": [
    "import COVID19Py\n",
    "import pandas as pd\n",
    "from datetime import date,  datetime"
   ]
  },
  {
   "cell_type": "code",
   "execution_count": 2,
   "metadata": {},
   "outputs": [],
   "source": [
    "covid19 = COVID19Py.COVID19()"
   ]
  },
  {
   "cell_type": "code",
   "execution_count": 3,
   "metadata": {},
   "outputs": [],
   "source": [
    "def tranforma_data(date_str):\n",
    "    dt = datetime.strptime(date_str, '%Y-%m-%dT%H:%M:%SZ')\n",
    "    data_nova = date(dt.year, dt.month, dt.day).strftime(\"%d/%m/%Y\") \n",
    "    return data_nova"
   ]
  },
  {
   "cell_type": "code",
   "execution_count": 4,
   "metadata": {},
   "outputs": [],
   "source": [
    "def data_por_pais(pais, ps, n_dias = 3):      \n",
    "    \n",
    "    casos_confirmados = pd.DataFrame(data = pais[0]['timelines']['confirmed'])\n",
    "    # removendo coluna latest\n",
    "    del casos_confirmados['latest']\n",
    "\n",
    "# tranformado o index em coluna \n",
    "    casos_confirmados['Data'] = casos_confirmados.index\n",
    "\n",
    "    # renomeando as colunas\n",
    "    casos_confirmados.columns = ['Casos', 'Data']\n",
    "\n",
    "    # modifica o formato da data\n",
    "    casos_confirmados['Data'] = casos_confirmados['Data'].apply(tranforma_data)\n",
    "\n",
    "    # selecioando apenas com os com valores acima de 100 casos comfimados\n",
    "    selecao = casos_confirmados.Casos > 200\n",
    "    casos_confirmados = casos_confirmados[selecao]\n",
    "\n",
    "    # reiniciando o index\n",
    "    casos_confirmados.index = range(casos_confirmados.shape[0])\n",
    "\n",
    "    mortes_confirmados = pd.DataFrame(data = pais[0]['timelines']['deaths'])\n",
    "    # removendo coluna latest\n",
    "    del mortes_confirmados['latest']\n",
    "\n",
    "    # tranformado o index em coluna e reiniciando o index\n",
    "    mortes_confirmados['Data'] = mortes_confirmados.index\n",
    "\n",
    "    # renomeando as colunas\n",
    "    mortes_confirmados.columns = ['Mortes', 'Data']\n",
    "\n",
    "    # modifica o formato da data\n",
    "    mortes_confirmados['Data'] = mortes_confirmados['Data'].apply(tranforma_data)\n",
    "\n",
    "    # selecionando apenas com os com valores acima de 100 casos comfimados\n",
    "    mortes_confirmados = mortes_confirmados[selecao]\n",
    "\n",
    "    # reiniciando o index\n",
    "    mortes_confirmados.index = range(mortes_confirmados.shape[0])    \n",
    "    \n",
    "    casos_e_mortes_confirmados = pd.DataFrame([casos_confirmados.Data,\n",
    "                                           casos_confirmados.Casos, \n",
    "                                           mortes_confirmados.Mortes]).transpose()\n",
    "    casos_e_mortes_confirmados['Pais'] = ps\n",
    "    casos_e_mortes_confirmados['Dias'] = casos_e_mortes_confirmados.index\n",
    "    # media movel de n_dias\n",
    "    casos_e_mortes_confirmados['Casos_Media_3'] = casos_e_mortes_confirmados['Casos'].rolling(n_dias, min_periods=1).mean()\n",
    "    casos_e_mortes_confirmados['Mortes_Media_3'] = casos_e_mortes_confirmados['Mortes'].rolling(n_dias, min_periods=1).mean()\n",
    "    \n",
    "    # Caclulo de taxas\n",
    "    casos_e_mortes_confirmados['Taxa_Casos_Media_3'] = None\n",
    "    casos_e_mortes_confirmados['Taxa_Mortes_Media_3'] = None\n",
    "    \n",
    "    for i in range(len(casos_e_mortes_confirmados) - 1):\n",
    "        dx = casos_e_mortes_confirmados.loc[i+1,'Casos_Media_3'] - casos_e_mortes_confirmados.loc[i, 'Casos_Media_3']\n",
    "        casos_e_mortes_confirmados.loc[i,'Taxa_Casos_Media_3'] = dx if dx > 0.0 else None\n",
    "    \n",
    "        dx = casos_e_mortes_confirmados.loc[i+1, 'Mortes_Media_3'] - casos_e_mortes_confirmados.loc[i, 'Mortes_Media_3']\n",
    "        casos_e_mortes_confirmados.loc[i,'Taxa_Mortes_Media_3'] = dx if dx > 0.0 else None\n",
    "    \n",
    "        dx = casos_e_mortes_confirmados.loc[i+1,'Casos'] - casos_e_mortes_confirmados.loc[i, 'Casos']\n",
    "        casos_e_mortes_confirmados.loc[i,'Taxa_Casos'] = dx if dx > 0.0 else None\n",
    "    \n",
    "        dx = casos_e_mortes_confirmados.loc[i+1, 'Mortes'] - casos_e_mortes_confirmados.loc[i, 'Mortes']\n",
    "        casos_e_mortes_confirmados.loc[i,'Taxa_Mortes'] = dx if dx > 0.0 else None\n",
    "    \n",
    "    return casos_e_mortes_confirmados"
   ]
  },
  {
   "cell_type": "markdown",
   "metadata": {},
   "source": [
    "# Obtendo os dados dos paises"
   ]
  },
  {
   "cell_type": "markdown",
   "metadata": {},
   "source": [
    "## Definido os paises desejados"
   ]
  },
  {
   "cell_type": "code",
   "execution_count": 5,
   "metadata": {},
   "outputs": [],
   "source": [
    "paises = [('US', 'USA'), \n",
    "          ('BR', 'Brasil'), \n",
    "          ('ES', 'Espanha'), \n",
    "          ('IT', 'Itália'), \n",
    "          ('DE', 'Alemanha'), \n",
    "          ('TR', 'Turquia'),\n",
    "          ('ZA', 'África do Sul'),\n",
    "          ('KR', 'Coreia do Sul'),\n",
    "          ('RU', 'Russia')]"
   ]
  },
  {
   "cell_type": "markdown",
   "metadata": {},
   "source": [
    "## Gerando do DataFrame"
   ]
  },
  {
   "cell_type": "code",
   "execution_count": 6,
   "metadata": {},
   "outputs": [],
   "source": [
    "df = pd.DataFrame()\n",
    "for cd, nome in paises:\n",
    "    pais = covid19.getLocationByCountryCode(cd, timelines = True)\n",
    "    df_novo = data_por_pais(pais, nome)    \n",
    "    df = pd.concat([df, df_novo], ignore_index = True)\n",
    "\n",
    "casos_e_mortes_confirmados = df.copy()    "
   ]
  },
  {
   "cell_type": "code",
   "execution_count": 7,
   "metadata": {},
   "outputs": [],
   "source": [
    "casos_e_mortes_confirmados['Porcentagem'] = casos_e_mortes_confirmados['Mortes'] / casos_e_mortes_confirmados['Casos'] * 100\n",
    "\n",
    "casos_e_mortes_confirmados['Porcentagem'] = (casos_e_mortes_confirmados['Porcentagem'].astype(float)).round(2)"
   ]
  },
  {
   "cell_type": "code",
   "execution_count": 8,
   "metadata": {},
   "outputs": [],
   "source": [
    "casos_e_mortes_confirmados['Porcentagem_Media_3'] = casos_e_mortes_confirmados['Mortes_Media_3']\\\n",
    "                                                  / casos_e_mortes_confirmados['Casos_Media_3'] * 100\n",
    "\n",
    "casos_e_mortes_confirmados['Porcentagem_Media_3'] = (casos_e_mortes_confirmados['Porcentagem'].astype(float)).round(2)"
   ]
  },
  {
   "cell_type": "markdown",
   "metadata": {},
   "source": [
    "## Salvando DataFrame em um arquivo csv"
   ]
  },
  {
   "cell_type": "code",
   "execution_count": 9,
   "metadata": {},
   "outputs": [],
   "source": [
    "casos_e_mortes_confirmados.to_csv('casos_e_mortes_confirmados.csv', index_label = False)"
   ]
  },
  {
   "cell_type": "code",
   "execution_count": null,
   "metadata": {},
   "outputs": [],
   "source": []
  }
 ],
 "metadata": {
  "kernelspec": {
   "display_name": "Python 3",
   "language": "python",
   "name": "python3"
  },
  "language_info": {
   "codemirror_mode": {
    "name": "ipython",
    "version": 3
   },
   "file_extension": ".py",
   "mimetype": "text/x-python",
   "name": "python",
   "nbconvert_exporter": "python",
   "pygments_lexer": "ipython3",
   "version": "3.8.2"
  }
 },
 "nbformat": 4,
 "nbformat_minor": 4
}
