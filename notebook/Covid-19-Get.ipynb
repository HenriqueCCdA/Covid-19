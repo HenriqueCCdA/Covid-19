{
 "cells": [
  {
   "cell_type": "code",
   "execution_count": 1,
   "metadata": {},
   "outputs": [],
   "source": [
    "import COVID19Py\n",
    "import pandas as pd\n",
    "from datetime import date,  datetime"
   ]
  },
  {
   "cell_type": "code",
   "execution_count": 2,
   "metadata": {},
   "outputs": [],
   "source": [
    "covid19 = COVID19Py.COVID19()"
   ]
  },
  {
   "cell_type": "code",
   "execution_count": 3,
   "metadata": {},
   "outputs": [],
   "source": [
    "def tranforma_data(date_str):\n",
    "    dt = datetime.strptime(date_str, '%Y-%m-%dT%H:%M:%SZ')\n",
    "    data_nova = date(dt.year, dt.month, dt.day).strftime(\"%d/%m/%Y\") \n",
    "    return data_nova"
   ]
  },
  {
   "cell_type": "code",
   "execution_count": 4,
   "metadata": {},
   "outputs": [],
   "source": [
    "def data_por_pais(pais, ps, n_dias = 3):      \n",
    "    \n",
    "    casos_confirmados = pd.DataFrame(data = pais[0]['timelines']['confirmed'])\n",
    "    # removendo coluna latest\n",
    "    del casos_confirmados['latest']\n",
    "\n",
    "# tranformado o index em coluna \n",
    "    casos_confirmados['Data'] = casos_confirmados.index\n",
    "\n",
    "    # renomeando as colunas\n",
    "    casos_confirmados.columns = ['Casos', 'Data']\n",
    "\n",
    "    # modifica o formato da data\n",
    "    casos_confirmados['Data'] = casos_confirmados['Data'].apply(tranforma_data)\n",
    "\n",
    "    # selecioando apenas com os com valores acima de 100 casos comfimados\n",
    "    selecao = casos_confirmados.Casos > 200\n",
    "    casos_confirmados = casos_confirmados[selecao]\n",
    "\n",
    "    # reiniciando o index\n",
    "    casos_confirmados.index = range(casos_confirmados.shape[0])\n",
    "\n",
    "    mortes_confirmados = pd.DataFrame(data = pais[0]['timelines']['deaths'])\n",
    "    # removendo coluna latest\n",
    "    del mortes_confirmados['latest']\n",
    "\n",
    "    # tranformado o index em coluna e reiniciando o index\n",
    "    mortes_confirmados['Data'] = mortes_confirmados.index\n",
    "\n",
    "    # renomeando as colunas\n",
    "    mortes_confirmados.columns = ['Mortes', 'Data']\n",
    "\n",
    "    # modifica o formato da data\n",
    "    mortes_confirmados['Data'] = mortes_confirmados['Data'].apply(tranforma_data)\n",
    "\n",
    "    # selecionando apenas com os com valores acima de 100 casos comfimados\n",
    "    mortes_confirmados = mortes_confirmados[selecao]\n",
    "\n",
    "    # reiniciando o index\n",
    "    mortes_confirmados.index = range(mortes_confirmados.shape[0])    \n",
    "    \n",
    "    casos_e_mortes_confirmados = pd.DataFrame([casos_confirmados.Data,\n",
    "                                           casos_confirmados.Casos, \n",
    "                                           mortes_confirmados.Mortes]).transpose()\n",
    "    casos_e_mortes_confirmados['Pais'] = ps\n",
    "    casos_e_mortes_confirmados['Dias'] = casos_e_mortes_confirmados.index\n",
    "    # media movel de n_dias\n",
    "    casos_e_mortes_confirmados['Casos_Media_3'] = casos_e_mortes_confirmados['Casos'].rolling(n_dias, min_periods=1).mean()\n",
    "    casos_e_mortes_confirmados['Mortes_Media_3'] = casos_e_mortes_confirmados['Mortes'].rolling(n_dias, min_periods=1).mean()\n",
    "    \n",
    "    # Caclulo de taxas\n",
    "    casos_e_mortes_confirmados['Taxa_Casos_Media_3'] = None\n",
    "    casos_e_mortes_confirmados['Taxa_Mortes_Media_3'] = None\n",
    "    \n",
    "    for i in range(len(casos_e_mortes_confirmados) - 1):\n",
    "        dx = casos_e_mortes_confirmados.loc[i+1,'Casos_Media_3'] - casos_e_mortes_confirmados.loc[i, 'Casos_Media_3']\n",
    "        casos_e_mortes_confirmados.loc[i,'Taxa_Casos_Media_3'] = dx if dx > 0.0 else None\n",
    "    \n",
    "        dx = casos_e_mortes_confirmados.loc[i+1, 'Mortes_Media_3'] - casos_e_mortes_confirmados.loc[i, 'Mortes_Media_3']\n",
    "        casos_e_mortes_confirmados.loc[i,'Taxa_Mortes_Media_3'] = dx if dx > 0.0 else None\n",
    "    \n",
    "        dx = casos_e_mortes_confirmados.loc[i+1,'Casos'] - casos_e_mortes_confirmados.loc[i, 'Casos']\n",
    "        casos_e_mortes_confirmados.loc[i,'Taxa_Casos'] = dx if dx > 0.0 else None\n",
    "    \n",
    "        dx = casos_e_mortes_confirmados.loc[i+1, 'Mortes'] - casos_e_mortes_confirmados.loc[i, 'Mortes']\n",
    "        casos_e_mortes_confirmados.loc[i,'Taxa_Mortes'] = dx if dx > 0.0 else None\n",
    "    \n",
    "    return casos_e_mortes_confirmados"
   ]
  },
  {
   "cell_type": "markdown",
   "metadata": {},
   "source": [
    "# Obtendo os dados dos paises"
   ]
  },
  {
   "cell_type": "markdown",
   "metadata": {},
   "source": [
    "## Definido os paises desejados"
   ]
  },
  {
   "cell_type": "code",
   "execution_count": 4,
   "metadata": {},
   "outputs": [],
   "source": [
    "paises = [('US', 'USA'), \n",
    "          ('BR', 'Brasil'), \n",
    "          ('ES', 'Espanha'), \n",
    "          ('IT', 'Itália'), \n",
    "          ('DE', 'Alemanha'), \n",
    "          ('TR', 'Turquia'),\n",
    "          ('ZA', 'África do Sul'),\n",
    "          ('KR', 'Coreia do Sul'),\n",
    "          ('RU', 'Russia')]"
   ]
  },
  {
   "cell_type": "markdown",
   "metadata": {},
   "source": [
    "## Gerando do DataFrame"
   ]
  },
  {
   "cell_type": "code",
   "execution_count": 5,
   "metadata": {},
   "outputs": [
    {
     "ename": "HTTPError",
     "evalue": "503 Server Error: Service Unavailable for url: https://coronavirus-tracker-api.herokuapp.com/v2/locations?country_code=US&timelines=true&source=jhu",
     "output_type": "error",
     "traceback": [
      "\u001b[1;31m---------------------------------------------------------------------------\u001b[0m",
      "\u001b[1;31mHTTPError\u001b[0m                                 Traceback (most recent call last)",
      "\u001b[1;32m<ipython-input-5-eb372e64f6e8>\u001b[0m in \u001b[0;36m<module>\u001b[1;34m\u001b[0m\n\u001b[0;32m      1\u001b[0m \u001b[0mdf\u001b[0m \u001b[1;33m=\u001b[0m \u001b[0mpd\u001b[0m\u001b[1;33m.\u001b[0m\u001b[0mDataFrame\u001b[0m\u001b[1;33m(\u001b[0m\u001b[1;33m)\u001b[0m\u001b[1;33m\u001b[0m\u001b[1;33m\u001b[0m\u001b[0m\n\u001b[0;32m      2\u001b[0m \u001b[1;32mfor\u001b[0m \u001b[0mcd\u001b[0m\u001b[1;33m,\u001b[0m \u001b[0mnome\u001b[0m \u001b[1;32min\u001b[0m \u001b[0mpaises\u001b[0m\u001b[1;33m:\u001b[0m\u001b[1;33m\u001b[0m\u001b[1;33m\u001b[0m\u001b[0m\n\u001b[1;32m----> 3\u001b[1;33m     \u001b[0mpais\u001b[0m \u001b[1;33m=\u001b[0m \u001b[0mcovid19\u001b[0m\u001b[1;33m.\u001b[0m\u001b[0mgetLocationByCountryCode\u001b[0m\u001b[1;33m(\u001b[0m\u001b[0mcd\u001b[0m\u001b[1;33m,\u001b[0m \u001b[0mtimelines\u001b[0m \u001b[1;33m=\u001b[0m \u001b[1;32mTrue\u001b[0m\u001b[1;33m)\u001b[0m\u001b[1;33m\u001b[0m\u001b[1;33m\u001b[0m\u001b[0m\n\u001b[0m\u001b[0;32m      4\u001b[0m     \u001b[0mdf_novo\u001b[0m \u001b[1;33m=\u001b[0m \u001b[0mdata_por_pais\u001b[0m\u001b[1;33m(\u001b[0m\u001b[0mpais\u001b[0m\u001b[1;33m,\u001b[0m \u001b[0mnome\u001b[0m\u001b[1;33m)\u001b[0m\u001b[1;33m\u001b[0m\u001b[1;33m\u001b[0m\u001b[0m\n\u001b[0;32m      5\u001b[0m     \u001b[0mdf\u001b[0m \u001b[1;33m=\u001b[0m \u001b[0mpd\u001b[0m\u001b[1;33m.\u001b[0m\u001b[0mconcat\u001b[0m\u001b[1;33m(\u001b[0m\u001b[1;33m[\u001b[0m\u001b[0mdf\u001b[0m\u001b[1;33m,\u001b[0m \u001b[0mdf_novo\u001b[0m\u001b[1;33m]\u001b[0m\u001b[1;33m,\u001b[0m \u001b[0mignore_index\u001b[0m \u001b[1;33m=\u001b[0m \u001b[1;32mTrue\u001b[0m\u001b[1;33m)\u001b[0m\u001b[1;33m\u001b[0m\u001b[1;33m\u001b[0m\u001b[0m\n",
      "\u001b[1;32mD:\\Anaconda\\Anaconda3\\envs\\covid-19\\lib\\site-packages\\COVID19Py\\covid19.py\u001b[0m in \u001b[0;36mgetLocationByCountryCode\u001b[1;34m(self, country_code, timelines)\u001b[0m\n\u001b[0;32m     99\u001b[0m         \u001b[0mdata\u001b[0m \u001b[1;33m=\u001b[0m \u001b[1;32mNone\u001b[0m\u001b[1;33m\u001b[0m\u001b[1;33m\u001b[0m\u001b[0m\n\u001b[0;32m    100\u001b[0m         \u001b[1;32mif\u001b[0m \u001b[0mtimelines\u001b[0m\u001b[1;33m:\u001b[0m\u001b[1;33m\u001b[0m\u001b[1;33m\u001b[0m\u001b[0m\n\u001b[1;32m--> 101\u001b[1;33m             \u001b[0mdata\u001b[0m \u001b[1;33m=\u001b[0m \u001b[0mself\u001b[0m\u001b[1;33m.\u001b[0m\u001b[0m_request\u001b[0m\u001b[1;33m(\u001b[0m\u001b[1;34m\"/v2/locations\"\u001b[0m\u001b[1;33m,\u001b[0m \u001b[1;33m{\u001b[0m\u001b[1;34m\"country_code\"\u001b[0m\u001b[1;33m:\u001b[0m \u001b[0mcountry_code\u001b[0m\u001b[1;33m,\u001b[0m \u001b[1;34m\"timelines\"\u001b[0m\u001b[1;33m:\u001b[0m \u001b[0mstr\u001b[0m\u001b[1;33m(\u001b[0m\u001b[0mtimelines\u001b[0m\u001b[1;33m)\u001b[0m\u001b[1;33m.\u001b[0m\u001b[0mlower\u001b[0m\u001b[1;33m(\u001b[0m\u001b[1;33m)\u001b[0m\u001b[1;33m}\u001b[0m\u001b[1;33m)\u001b[0m\u001b[1;33m\u001b[0m\u001b[1;33m\u001b[0m\u001b[0m\n\u001b[0m\u001b[0;32m    102\u001b[0m         \u001b[1;32melse\u001b[0m\u001b[1;33m:\u001b[0m\u001b[1;33m\u001b[0m\u001b[1;33m\u001b[0m\u001b[0m\n\u001b[0;32m    103\u001b[0m             \u001b[0mdata\u001b[0m \u001b[1;33m=\u001b[0m \u001b[0mself\u001b[0m\u001b[1;33m.\u001b[0m\u001b[0m_request\u001b[0m\u001b[1;33m(\u001b[0m\u001b[1;34m\"/v2/locations\"\u001b[0m\u001b[1;33m,\u001b[0m \u001b[1;33m{\u001b[0m\u001b[1;34m\"country_code\"\u001b[0m\u001b[1;33m:\u001b[0m \u001b[0mcountry_code\u001b[0m\u001b[1;33m}\u001b[0m\u001b[1;33m)\u001b[0m\u001b[1;33m\u001b[0m\u001b[1;33m\u001b[0m\u001b[0m\n",
      "\u001b[1;32mD:\\Anaconda\\Anaconda3\\envs\\covid-19\\lib\\site-packages\\COVID19Py\\covid19.py\u001b[0m in \u001b[0;36m_request\u001b[1;34m(self, endpoint, params)\u001b[0m\n\u001b[0;32m     36\u001b[0m             \u001b[0mparams\u001b[0m \u001b[1;33m=\u001b[0m \u001b[1;33m{\u001b[0m\u001b[1;33m}\u001b[0m\u001b[1;33m\u001b[0m\u001b[1;33m\u001b[0m\u001b[0m\n\u001b[0;32m     37\u001b[0m         \u001b[0mresponse\u001b[0m \u001b[1;33m=\u001b[0m \u001b[0mrequests\u001b[0m\u001b[1;33m.\u001b[0m\u001b[0mget\u001b[0m\u001b[1;33m(\u001b[0m\u001b[0mself\u001b[0m\u001b[1;33m.\u001b[0m\u001b[0murl\u001b[0m \u001b[1;33m+\u001b[0m \u001b[0mendpoint\u001b[0m\u001b[1;33m,\u001b[0m \u001b[1;33m{\u001b[0m\u001b[1;33m**\u001b[0m\u001b[0mparams\u001b[0m\u001b[1;33m,\u001b[0m \u001b[1;34m\"source\"\u001b[0m\u001b[1;33m:\u001b[0m\u001b[0mself\u001b[0m\u001b[1;33m.\u001b[0m\u001b[0mdata_source\u001b[0m\u001b[1;33m}\u001b[0m\u001b[1;33m)\u001b[0m\u001b[1;33m\u001b[0m\u001b[1;33m\u001b[0m\u001b[0m\n\u001b[1;32m---> 38\u001b[1;33m         \u001b[0mresponse\u001b[0m\u001b[1;33m.\u001b[0m\u001b[0mraise_for_status\u001b[0m\u001b[1;33m(\u001b[0m\u001b[1;33m)\u001b[0m\u001b[1;33m\u001b[0m\u001b[1;33m\u001b[0m\u001b[0m\n\u001b[0m\u001b[0;32m     39\u001b[0m         \u001b[1;32mreturn\u001b[0m \u001b[0mresponse\u001b[0m\u001b[1;33m.\u001b[0m\u001b[0mjson\u001b[0m\u001b[1;33m(\u001b[0m\u001b[1;33m)\u001b[0m\u001b[1;33m\u001b[0m\u001b[1;33m\u001b[0m\u001b[0m\n\u001b[0;32m     40\u001b[0m \u001b[1;33m\u001b[0m\u001b[0m\n",
      "\u001b[1;32mD:\\Anaconda\\Anaconda3\\envs\\covid-19\\lib\\site-packages\\requests\\models.py\u001b[0m in \u001b[0;36mraise_for_status\u001b[1;34m(self)\u001b[0m\n\u001b[0;32m    939\u001b[0m \u001b[1;33m\u001b[0m\u001b[0m\n\u001b[0;32m    940\u001b[0m         \u001b[1;32mif\u001b[0m \u001b[0mhttp_error_msg\u001b[0m\u001b[1;33m:\u001b[0m\u001b[1;33m\u001b[0m\u001b[1;33m\u001b[0m\u001b[0m\n\u001b[1;32m--> 941\u001b[1;33m             \u001b[1;32mraise\u001b[0m \u001b[0mHTTPError\u001b[0m\u001b[1;33m(\u001b[0m\u001b[0mhttp_error_msg\u001b[0m\u001b[1;33m,\u001b[0m \u001b[0mresponse\u001b[0m\u001b[1;33m=\u001b[0m\u001b[0mself\u001b[0m\u001b[1;33m)\u001b[0m\u001b[1;33m\u001b[0m\u001b[1;33m\u001b[0m\u001b[0m\n\u001b[0m\u001b[0;32m    942\u001b[0m \u001b[1;33m\u001b[0m\u001b[0m\n\u001b[0;32m    943\u001b[0m     \u001b[1;32mdef\u001b[0m \u001b[0mclose\u001b[0m\u001b[1;33m(\u001b[0m\u001b[0mself\u001b[0m\u001b[1;33m)\u001b[0m\u001b[1;33m:\u001b[0m\u001b[1;33m\u001b[0m\u001b[1;33m\u001b[0m\u001b[0m\n",
      "\u001b[1;31mHTTPError\u001b[0m: 503 Server Error: Service Unavailable for url: https://coronavirus-tracker-api.herokuapp.com/v2/locations?country_code=US&timelines=true&source=jhu"
     ]
    }
   ],
   "source": [
    "df = pd.DataFrame()\n",
    "for cd, nome in paises:\n",
    "    pais = covid19.getLocationByCountryCode(cd, timelines = True)\n",
    "    df_novo = data_por_pais(pais, nome)    \n",
    "    df = pd.concat([df, df_novo], ignore_index = True)\n",
    "\n",
    "casos_e_mortes_confirmados = df.copy()    "
   ]
  },
  {
   "cell_type": "code",
   "execution_count": 7,
   "metadata": {},
   "outputs": [],
   "source": [
    "casos_e_mortes_confirmados['Porcentagem'] = casos_e_mortes_confirmados['Mortes'] / casos_e_mortes_confirmados['Casos'] * 100\n",
    "\n",
    "casos_e_mortes_confirmados['Porcentagem'] = (casos_e_mortes_confirmados['Porcentagem'].astype(float)).round(2)"
   ]
  },
  {
   "cell_type": "code",
   "execution_count": 8,
   "metadata": {},
   "outputs": [],
   "source": [
    "casos_e_mortes_confirmados['Porcentagem_Media_3'] = casos_e_mortes_confirmados['Mortes_Media_3']\\\n",
    "                                                  / casos_e_mortes_confirmados['Casos_Media_3'] * 100\n",
    "\n",
    "casos_e_mortes_confirmados['Porcentagem_Media_3'] = (casos_e_mortes_confirmados['Porcentagem'].astype(float)).round(2)"
   ]
  },
  {
   "cell_type": "markdown",
   "metadata": {},
   "source": [
    "## Salvando DataFrame em um arquivo csv"
   ]
  },
  {
   "cell_type": "code",
   "execution_count": 9,
   "metadata": {},
   "outputs": [],
   "source": [
    "casos_e_mortes_confirmados.to_csv('casos_e_mortes_confirmados.csv', index_label = False)"
   ]
  },
  {
   "cell_type": "code",
   "execution_count": null,
   "metadata": {},
   "outputs": [],
   "source": []
  }
 ],
 "metadata": {
  "kernelspec": {
   "display_name": "Python 3",
   "language": "python",
   "name": "python3"
  },
  "language_info": {
   "codemirror_mode": {
    "name": "ipython",
    "version": 3
   },
   "file_extension": ".py",
   "mimetype": "text/x-python",
   "name": "python",
   "nbconvert_exporter": "python",
   "pygments_lexer": "ipython3",
   "version": "3.8.2"
  }
 },
 "nbformat": 4,
 "nbformat_minor": 4
}
