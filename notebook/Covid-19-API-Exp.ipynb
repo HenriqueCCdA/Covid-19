{
 "cells": [
  {
   "cell_type": "markdown",
   "metadata": {},
   "source": [
    "# Explorando a API COVID19Py"
   ]
  },
  {
   "cell_type": "code",
   "execution_count": 1,
   "metadata": {},
   "outputs": [],
   "source": [
    "import COVID19Py"
   ]
  },
  {
   "cell_type": "code",
   "execution_count": 2,
   "metadata": {},
   "outputs": [],
   "source": [
    "covid19 = COVID19Py.COVID19(data_source=\"jhu\")"
   ]
  },
  {
   "cell_type": "code",
   "execution_count": 3,
   "metadata": {},
   "outputs": [
    {
     "data": {
      "text/plain": [
       "<COVID19Py.covid19.COVID19 at 0x1775abf59a0>"
      ]
     },
     "execution_count": 3,
     "metadata": {},
     "output_type": "execute_result"
    }
   ],
   "source": [
    "covid19"
   ]
  },
  {
   "cell_type": "code",
   "execution_count": 5,
   "metadata": {},
   "outputs": [
    {
     "data": {
      "text/plain": [
       "{'confirmed': 1976191, 'deaths': 125984, 'recovered': 0}"
      ]
     },
     "execution_count": 5,
     "metadata": {},
     "output_type": "execute_result"
    }
   ],
   "source": [
    "latest = covid19.getLatest()\n",
    "latest"
   ]
  },
  {
   "cell_type": "markdown",
   "metadata": {},
   "source": [
    "## Obtendo o dados de um pais especifico"
   ]
  },
  {
   "cell_type": "code",
   "execution_count": 4,
   "metadata": {},
   "outputs": [],
   "source": [
    "pais = covid19.getLocationByCountryCode(\"US\", timelines=True)"
   ]
  },
  {
   "cell_type": "code",
   "execution_count": 7,
   "metadata": {},
   "outputs": [],
   "source": [
    "#pais"
   ]
  },
  {
   "cell_type": "code",
   "execution_count": 8,
   "metadata": {},
   "outputs": [],
   "source": [
    "#pais[0]['timelines']"
   ]
  },
  {
   "cell_type": "code",
   "execution_count": 9,
   "metadata": {},
   "outputs": [],
   "source": [
    "#pais[0]['timelines']"
   ]
  },
  {
   "cell_type": "code",
   "execution_count": 10,
   "metadata": {},
   "outputs": [],
   "source": [
    "#pais[0]['timelines']['confirmed']['timeline']"
   ]
  },
  {
   "cell_type": "markdown",
   "metadata": {},
   "source": [
    "# Gerando a dataFrame com os dados obtidos"
   ]
  },
  {
   "cell_type": "code",
   "execution_count": 5,
   "metadata": {},
   "outputs": [],
   "source": [
    "import pandas as pd\n",
    "from datetime import date,  datetime"
   ]
  },
  {
   "cell_type": "markdown",
   "metadata": {},
   "source": [
    "## Casos comfirmados"
   ]
  },
  {
   "cell_type": "code",
   "execution_count": 6,
   "metadata": {},
   "outputs": [],
   "source": [
    "def tranforma_data(date_str):\n",
    "    dt = datetime.strptime(date_str, '%Y-%m-%dT%H:%M:%SZ')\n",
    "    data_nova = date(dt.year, dt.month, dt.day).strftime(\"%d/%m/%Y\") \n",
    "    return data_nova"
   ]
  },
  {
   "cell_type": "code",
   "execution_count": 8,
   "metadata": {},
   "outputs": [
    {
     "data": {
      "text/html": [
       "<div>\n",
       "<style scoped>\n",
       "    .dataframe tbody tr th:only-of-type {\n",
       "        vertical-align: middle;\n",
       "    }\n",
       "\n",
       "    .dataframe tbody tr th {\n",
       "        vertical-align: top;\n",
       "    }\n",
       "\n",
       "    .dataframe thead th {\n",
       "        text-align: right;\n",
       "    }\n",
       "</style>\n",
       "<table border=\"1\" class=\"dataframe\">\n",
       "  <thead>\n",
       "    <tr style=\"text-align: right;\">\n",
       "      <th></th>\n",
       "      <th>Casos</th>\n",
       "      <th>Data</th>\n",
       "    </tr>\n",
       "  </thead>\n",
       "  <tbody>\n",
       "    <tr>\n",
       "      <th>0</th>\n",
       "      <td>217</td>\n",
       "      <td>05/03/2020</td>\n",
       "    </tr>\n",
       "    <tr>\n",
       "      <th>1</th>\n",
       "      <td>262</td>\n",
       "      <td>06/03/2020</td>\n",
       "    </tr>\n",
       "    <tr>\n",
       "      <th>2</th>\n",
       "      <td>402</td>\n",
       "      <td>07/03/2020</td>\n",
       "    </tr>\n",
       "    <tr>\n",
       "      <th>3</th>\n",
       "      <td>518</td>\n",
       "      <td>08/03/2020</td>\n",
       "    </tr>\n",
       "    <tr>\n",
       "      <th>4</th>\n",
       "      <td>583</td>\n",
       "      <td>09/03/2020</td>\n",
       "    </tr>\n",
       "  </tbody>\n",
       "</table>\n",
       "</div>"
      ],
      "text/plain": [
       "   Casos        Data\n",
       "0    217  05/03/2020\n",
       "1    262  06/03/2020\n",
       "2    402  07/03/2020\n",
       "3    518  08/03/2020\n",
       "4    583  09/03/2020"
      ]
     },
     "execution_count": 8,
     "metadata": {},
     "output_type": "execute_result"
    }
   ],
   "source": [
    "casos_confirmados = pd.DataFrame(data = pais[0]['timelines']['confirmed'])\n",
    "# removendo coluna latest\n",
    "del casos_confirmados['latest']\n",
    "\n",
    "# tranformado o index em coluna \n",
    "casos_confirmados['Data'] = casos_confirmados.index\n",
    "#casos_confirmados.index = range(casos_confirmados.shape[0])\n",
    "\n",
    "# renomeando as colunas\n",
    "casos_confirmados.columns = ['Casos', 'Data']\n",
    "\n",
    "# modifica o formato da data\n",
    "casos_confirmados['Data'] = casos_confirmados['Data'].apply(tranforma_data)\n",
    "\n",
    "#casos_confirmados.reset_index(level=0, inplace=True)\n",
    "\n",
    "# selecioando apenas com os com valores acima de 100 casos comfimados\n",
    "selecao = casos_confirmados.Casos > 200\n",
    "casos_confirmados = casos_confirmados[selecao]\n",
    "\n",
    "# reiniciando o index\n",
    "casos_confirmados.index = range(casos_confirmados.shape[0])\n",
    "\n",
    "casos_confirmados.head()"
   ]
  },
  {
   "cell_type": "markdown",
   "metadata": {},
   "source": [
    "## Mortes comfirmadas"
   ]
  },
  {
   "cell_type": "code",
   "execution_count": 9,
   "metadata": {},
   "outputs": [
    {
     "data": {
      "text/html": [
       "<div>\n",
       "<style scoped>\n",
       "    .dataframe tbody tr th:only-of-type {\n",
       "        vertical-align: middle;\n",
       "    }\n",
       "\n",
       "    .dataframe tbody tr th {\n",
       "        vertical-align: top;\n",
       "    }\n",
       "\n",
       "    .dataframe thead th {\n",
       "        text-align: right;\n",
       "    }\n",
       "</style>\n",
       "<table border=\"1\" class=\"dataframe\">\n",
       "  <thead>\n",
       "    <tr style=\"text-align: right;\">\n",
       "      <th></th>\n",
       "      <th>Mortes</th>\n",
       "      <th>Data</th>\n",
       "    </tr>\n",
       "  </thead>\n",
       "  <tbody>\n",
       "    <tr>\n",
       "      <th>0</th>\n",
       "      <td>12</td>\n",
       "      <td>05/03/2020</td>\n",
       "    </tr>\n",
       "    <tr>\n",
       "      <th>1</th>\n",
       "      <td>14</td>\n",
       "      <td>06/03/2020</td>\n",
       "    </tr>\n",
       "    <tr>\n",
       "      <th>2</th>\n",
       "      <td>17</td>\n",
       "      <td>07/03/2020</td>\n",
       "    </tr>\n",
       "    <tr>\n",
       "      <th>3</th>\n",
       "      <td>21</td>\n",
       "      <td>08/03/2020</td>\n",
       "    </tr>\n",
       "    <tr>\n",
       "      <th>4</th>\n",
       "      <td>22</td>\n",
       "      <td>09/03/2020</td>\n",
       "    </tr>\n",
       "  </tbody>\n",
       "</table>\n",
       "</div>"
      ],
      "text/plain": [
       "   Mortes        Data\n",
       "0      12  05/03/2020\n",
       "1      14  06/03/2020\n",
       "2      17  07/03/2020\n",
       "3      21  08/03/2020\n",
       "4      22  09/03/2020"
      ]
     },
     "execution_count": 9,
     "metadata": {},
     "output_type": "execute_result"
    }
   ],
   "source": [
    "mortes_confirmados = pd.DataFrame(data = pais[0]['timelines']['deaths'])\n",
    "# removendo coluna latest\n",
    "del mortes_confirmados['latest']\n",
    "\n",
    "# tranformado o index em coluna e reiniciando o index\n",
    "mortes_confirmados['Data'] = mortes_confirmados.index\n",
    "\n",
    "# renomeando as colunas\n",
    "mortes_confirmados.columns = ['Mortes', 'Data']\n",
    "\n",
    "# modifica o formato da data\n",
    "mortes_confirmados['Data'] = mortes_confirmados['Data'].apply(tranforma_data)\n",
    "\n",
    "# selecionando apenas com os com valores acima de 100 casos comfimados\n",
    "mortes_confirmados = mortes_confirmados[selecao]\n",
    "\n",
    "# reiniciando o index\n",
    "mortes_confirmados.index = range(mortes_confirmados.shape[0])\n",
    "\n",
    "mortes_confirmados.head()"
   ]
  },
  {
   "cell_type": "code",
   "execution_count": 66,
   "metadata": {},
   "outputs": [
    {
     "data": {
      "text/html": [
       "<div>\n",
       "<style scoped>\n",
       "    .dataframe tbody tr th:only-of-type {\n",
       "        vertical-align: middle;\n",
       "    }\n",
       "\n",
       "    .dataframe tbody tr th {\n",
       "        vertical-align: top;\n",
       "    }\n",
       "\n",
       "    .dataframe thead th {\n",
       "        text-align: right;\n",
       "    }\n",
       "</style>\n",
       "<table border=\"1\" class=\"dataframe\">\n",
       "  <thead>\n",
       "    <tr style=\"text-align: right;\">\n",
       "      <th></th>\n",
       "      <th>Data</th>\n",
       "      <th>Casos</th>\n",
       "      <th>Mortes</th>\n",
       "      <th>Dias</th>\n",
       "    </tr>\n",
       "  </thead>\n",
       "  <tbody>\n",
       "    <tr>\n",
       "      <th>0</th>\n",
       "      <td>05/03/2020</td>\n",
       "      <td>217</td>\n",
       "      <td>12</td>\n",
       "      <td>0</td>\n",
       "    </tr>\n",
       "    <tr>\n",
       "      <th>1</th>\n",
       "      <td>06/03/2020</td>\n",
       "      <td>262</td>\n",
       "      <td>14</td>\n",
       "      <td>1</td>\n",
       "    </tr>\n",
       "    <tr>\n",
       "      <th>2</th>\n",
       "      <td>07/03/2020</td>\n",
       "      <td>402</td>\n",
       "      <td>17</td>\n",
       "      <td>2</td>\n",
       "    </tr>\n",
       "    <tr>\n",
       "      <th>3</th>\n",
       "      <td>08/03/2020</td>\n",
       "      <td>518</td>\n",
       "      <td>21</td>\n",
       "      <td>3</td>\n",
       "    </tr>\n",
       "    <tr>\n",
       "      <th>4</th>\n",
       "      <td>09/03/2020</td>\n",
       "      <td>583</td>\n",
       "      <td>22</td>\n",
       "      <td>4</td>\n",
       "    </tr>\n",
       "  </tbody>\n",
       "</table>\n",
       "</div>"
      ],
      "text/plain": [
       "         Data Casos Mortes  Dias\n",
       "0  05/03/2020   217     12     0\n",
       "1  06/03/2020   262     14     1\n",
       "2  07/03/2020   402     17     2\n",
       "3  08/03/2020   518     21     3\n",
       "4  09/03/2020   583     22     4"
      ]
     },
     "execution_count": 66,
     "metadata": {},
     "output_type": "execute_result"
    }
   ],
   "source": [
    "casos_e_mortes_confirmados = pd.DataFrame([casos_confirmados.Data,\n",
    "                                           casos_confirmados.Casos, \n",
    "                                           mortes_confirmados.Mortes]).transpose()\n",
    "casos_e_mortes_confirmados['Dias'] = casos_e_mortes_confirmados.index\n",
    "casos_e_mortes_confirmados.head()"
   ]
  },
  {
   "cell_type": "markdown",
   "metadata": {},
   "source": [
    "# Media movel de 3"
   ]
  },
  {
   "cell_type": "code",
   "execution_count": 67,
   "metadata": {},
   "outputs": [],
   "source": [
    "casos_e_mortes_confirmados['Casos_Media_3'] = casos_e_mortes_confirmados['Casos'].rolling(3, min_periods=1).mean()\n",
    "casos_e_mortes_confirmados['Mortes_Media_3'] = casos_e_mortes_confirmados['Mortes'].rolling(3, min_periods=1).mean()"
   ]
  },
  {
   "cell_type": "code",
   "execution_count": 68,
   "metadata": {},
   "outputs": [
    {
     "data": {
      "text/html": [
       "<div>\n",
       "<style scoped>\n",
       "    .dataframe tbody tr th:only-of-type {\n",
       "        vertical-align: middle;\n",
       "    }\n",
       "\n",
       "    .dataframe tbody tr th {\n",
       "        vertical-align: top;\n",
       "    }\n",
       "\n",
       "    .dataframe thead th {\n",
       "        text-align: right;\n",
       "    }\n",
       "</style>\n",
       "<table border=\"1\" class=\"dataframe\">\n",
       "  <thead>\n",
       "    <tr style=\"text-align: right;\">\n",
       "      <th></th>\n",
       "      <th>Data</th>\n",
       "      <th>Casos</th>\n",
       "      <th>Mortes</th>\n",
       "      <th>Dias</th>\n",
       "      <th>Casos_Media_3</th>\n",
       "      <th>Mortes_Media_3</th>\n",
       "    </tr>\n",
       "  </thead>\n",
       "  <tbody>\n",
       "    <tr>\n",
       "      <th>0</th>\n",
       "      <td>05/03/2020</td>\n",
       "      <td>217</td>\n",
       "      <td>12</td>\n",
       "      <td>0</td>\n",
       "      <td>217.000000</td>\n",
       "      <td>12.000000</td>\n",
       "    </tr>\n",
       "    <tr>\n",
       "      <th>1</th>\n",
       "      <td>06/03/2020</td>\n",
       "      <td>262</td>\n",
       "      <td>14</td>\n",
       "      <td>1</td>\n",
       "      <td>239.500000</td>\n",
       "      <td>13.000000</td>\n",
       "    </tr>\n",
       "    <tr>\n",
       "      <th>2</th>\n",
       "      <td>07/03/2020</td>\n",
       "      <td>402</td>\n",
       "      <td>17</td>\n",
       "      <td>2</td>\n",
       "      <td>293.666667</td>\n",
       "      <td>14.333333</td>\n",
       "    </tr>\n",
       "    <tr>\n",
       "      <th>3</th>\n",
       "      <td>08/03/2020</td>\n",
       "      <td>518</td>\n",
       "      <td>21</td>\n",
       "      <td>3</td>\n",
       "      <td>394.000000</td>\n",
       "      <td>17.333333</td>\n",
       "    </tr>\n",
       "    <tr>\n",
       "      <th>4</th>\n",
       "      <td>09/03/2020</td>\n",
       "      <td>583</td>\n",
       "      <td>22</td>\n",
       "      <td>4</td>\n",
       "      <td>501.000000</td>\n",
       "      <td>20.000000</td>\n",
       "    </tr>\n",
       "  </tbody>\n",
       "</table>\n",
       "</div>"
      ],
      "text/plain": [
       "         Data Casos Mortes  Dias  Casos_Media_3  Mortes_Media_3\n",
       "0  05/03/2020   217     12     0     217.000000       12.000000\n",
       "1  06/03/2020   262     14     1     239.500000       13.000000\n",
       "2  07/03/2020   402     17     2     293.666667       14.333333\n",
       "3  08/03/2020   518     21     3     394.000000       17.333333\n",
       "4  09/03/2020   583     22     4     501.000000       20.000000"
      ]
     },
     "execution_count": 68,
     "metadata": {},
     "output_type": "execute_result"
    }
   ],
   "source": [
    "casos_e_mortes_confirmados.head()"
   ]
  },
  {
   "cell_type": "code",
   "execution_count": 69,
   "metadata": {},
   "outputs": [],
   "source": [
    "casos_e_mortes_confirmados['Taxa_Casos_Media_3'] = None\n",
    "casos_e_mortes_confirmados['Taxa_Mortes_Media_3'] = None"
   ]
  },
  {
   "cell_type": "code",
   "execution_count": 70,
   "metadata": {},
   "outputs": [],
   "source": [
    "for i in range(len(casos_e_mortes_confirmados) - 1):\n",
    "    dx = casos_e_mortes_confirmados.loc[i+1,'Casos_Media_3'] - casos_e_mortes_confirmados.loc[i, 'Casos_Media_3']\n",
    "    casos_e_mortes_confirmados.loc[i,'Taxa_Casos_Media_3'] = dx\n",
    "    \n",
    "    dx = casos_e_mortes_confirmados.loc[i+1, 'Mortes_Media_3'] - casos_e_mortes_confirmados.loc[i, 'Mortes_Media_3']\n",
    "    casos_e_mortes_confirmados.loc[i,'Taxa_Mortes_Media_3'] = dx"
   ]
  },
  {
   "cell_type": "code",
   "execution_count": 71,
   "metadata": {},
   "outputs": [
    {
     "data": {
      "text/html": [
       "<div>\n",
       "<style scoped>\n",
       "    .dataframe tbody tr th:only-of-type {\n",
       "        vertical-align: middle;\n",
       "    }\n",
       "\n",
       "    .dataframe tbody tr th {\n",
       "        vertical-align: top;\n",
       "    }\n",
       "\n",
       "    .dataframe thead th {\n",
       "        text-align: right;\n",
       "    }\n",
       "</style>\n",
       "<table border=\"1\" class=\"dataframe\">\n",
       "  <thead>\n",
       "    <tr style=\"text-align: right;\">\n",
       "      <th></th>\n",
       "      <th>Data</th>\n",
       "      <th>Casos</th>\n",
       "      <th>Mortes</th>\n",
       "      <th>Dias</th>\n",
       "      <th>Casos_Media_3</th>\n",
       "      <th>Mortes_Media_3</th>\n",
       "      <th>Taxa_Casos_Media_3</th>\n",
       "      <th>Taxa_Mortes_Media_3</th>\n",
       "    </tr>\n",
       "  </thead>\n",
       "  <tbody>\n",
       "    <tr>\n",
       "      <th>0</th>\n",
       "      <td>05/03/2020</td>\n",
       "      <td>217</td>\n",
       "      <td>12</td>\n",
       "      <td>0</td>\n",
       "      <td>217.000000</td>\n",
       "      <td>12.000000</td>\n",
       "      <td>22.5</td>\n",
       "      <td>1</td>\n",
       "    </tr>\n",
       "    <tr>\n",
       "      <th>1</th>\n",
       "      <td>06/03/2020</td>\n",
       "      <td>262</td>\n",
       "      <td>14</td>\n",
       "      <td>1</td>\n",
       "      <td>239.500000</td>\n",
       "      <td>13.000000</td>\n",
       "      <td>54.1667</td>\n",
       "      <td>1.33333</td>\n",
       "    </tr>\n",
       "    <tr>\n",
       "      <th>2</th>\n",
       "      <td>07/03/2020</td>\n",
       "      <td>402</td>\n",
       "      <td>17</td>\n",
       "      <td>2</td>\n",
       "      <td>293.666667</td>\n",
       "      <td>14.333333</td>\n",
       "      <td>100.333</td>\n",
       "      <td>3</td>\n",
       "    </tr>\n",
       "    <tr>\n",
       "      <th>3</th>\n",
       "      <td>08/03/2020</td>\n",
       "      <td>518</td>\n",
       "      <td>21</td>\n",
       "      <td>3</td>\n",
       "      <td>394.000000</td>\n",
       "      <td>17.333333</td>\n",
       "      <td>107</td>\n",
       "      <td>2.66667</td>\n",
       "    </tr>\n",
       "    <tr>\n",
       "      <th>4</th>\n",
       "      <td>09/03/2020</td>\n",
       "      <td>583</td>\n",
       "      <td>22</td>\n",
       "      <td>4</td>\n",
       "      <td>501.000000</td>\n",
       "      <td>20.000000</td>\n",
       "      <td>185.667</td>\n",
       "      <td>3.66667</td>\n",
       "    </tr>\n",
       "  </tbody>\n",
       "</table>\n",
       "</div>"
      ],
      "text/plain": [
       "         Data Casos Mortes  Dias  Casos_Media_3  Mortes_Media_3  \\\n",
       "0  05/03/2020   217     12     0     217.000000       12.000000   \n",
       "1  06/03/2020   262     14     1     239.500000       13.000000   \n",
       "2  07/03/2020   402     17     2     293.666667       14.333333   \n",
       "3  08/03/2020   518     21     3     394.000000       17.333333   \n",
       "4  09/03/2020   583     22     4     501.000000       20.000000   \n",
       "\n",
       "  Taxa_Casos_Media_3 Taxa_Mortes_Media_3  \n",
       "0               22.5                   1  \n",
       "1            54.1667             1.33333  \n",
       "2            100.333                   3  \n",
       "3                107             2.66667  \n",
       "4            185.667             3.66667  "
      ]
     },
     "execution_count": 71,
     "metadata": {},
     "output_type": "execute_result"
    }
   ],
   "source": [
    "casos_e_mortes_confirmados.head()"
   ]
  },
  {
   "cell_type": "code",
   "execution_count": 72,
   "metadata": {},
   "outputs": [
    {
     "data": {
      "text/html": [
       "<div>\n",
       "<style scoped>\n",
       "    .dataframe tbody tr th:only-of-type {\n",
       "        vertical-align: middle;\n",
       "    }\n",
       "\n",
       "    .dataframe tbody tr th {\n",
       "        vertical-align: top;\n",
       "    }\n",
       "\n",
       "    .dataframe thead th {\n",
       "        text-align: right;\n",
       "    }\n",
       "</style>\n",
       "<table border=\"1\" class=\"dataframe\">\n",
       "  <thead>\n",
       "    <tr style=\"text-align: right;\">\n",
       "      <th></th>\n",
       "      <th>Data</th>\n",
       "      <th>Casos</th>\n",
       "      <th>Mortes</th>\n",
       "      <th>Dias</th>\n",
       "      <th>Casos_Media_3</th>\n",
       "      <th>Mortes_Media_3</th>\n",
       "      <th>Taxa_Casos_Media_3</th>\n",
       "      <th>Taxa_Mortes_Media_3</th>\n",
       "    </tr>\n",
       "  </thead>\n",
       "  <tbody>\n",
       "    <tr>\n",
       "      <th>36</th>\n",
       "      <td>10/04/2020</td>\n",
       "      <td>496535</td>\n",
       "      <td>18586</td>\n",
       "      <td>36</td>\n",
       "      <td>462341.333333</td>\n",
       "      <td>16586.333333</td>\n",
       "      <td>32448</td>\n",
       "      <td>1922.67</td>\n",
       "    </tr>\n",
       "    <tr>\n",
       "      <th>37</th>\n",
       "      <td>11/04/2020</td>\n",
       "      <td>526396</td>\n",
       "      <td>20463</td>\n",
       "      <td>37</td>\n",
       "      <td>494789.333333</td>\n",
       "      <td>18509.000000</td>\n",
       "      <td>31292</td>\n",
       "      <td>1847.33</td>\n",
       "    </tr>\n",
       "    <tr>\n",
       "      <th>38</th>\n",
       "      <td>12/04/2020</td>\n",
       "      <td>555313</td>\n",
       "      <td>22020</td>\n",
       "      <td>38</td>\n",
       "      <td>526081.333333</td>\n",
       "      <td>20356.333333</td>\n",
       "      <td>28028</td>\n",
       "      <td>1647.67</td>\n",
       "    </tr>\n",
       "    <tr>\n",
       "      <th>39</th>\n",
       "      <td>13/04/2020</td>\n",
       "      <td>580619</td>\n",
       "      <td>23529</td>\n",
       "      <td>39</td>\n",
       "      <td>554109.333333</td>\n",
       "      <td>22004.000000</td>\n",
       "      <td>27091.3</td>\n",
       "      <td>1789.67</td>\n",
       "    </tr>\n",
       "    <tr>\n",
       "      <th>40</th>\n",
       "      <td>14/04/2020</td>\n",
       "      <td>607670</td>\n",
       "      <td>25832</td>\n",
       "      <td>40</td>\n",
       "      <td>581200.666667</td>\n",
       "      <td>23793.666667</td>\n",
       "      <td>None</td>\n",
       "      <td>None</td>\n",
       "    </tr>\n",
       "  </tbody>\n",
       "</table>\n",
       "</div>"
      ],
      "text/plain": [
       "          Data   Casos Mortes  Dias  Casos_Media_3  Mortes_Media_3  \\\n",
       "36  10/04/2020  496535  18586    36  462341.333333    16586.333333   \n",
       "37  11/04/2020  526396  20463    37  494789.333333    18509.000000   \n",
       "38  12/04/2020  555313  22020    38  526081.333333    20356.333333   \n",
       "39  13/04/2020  580619  23529    39  554109.333333    22004.000000   \n",
       "40  14/04/2020  607670  25832    40  581200.666667    23793.666667   \n",
       "\n",
       "   Taxa_Casos_Media_3 Taxa_Mortes_Media_3  \n",
       "36              32448             1922.67  \n",
       "37              31292             1847.33  \n",
       "38              28028             1647.67  \n",
       "39            27091.3             1789.67  \n",
       "40               None                None  "
      ]
     },
     "execution_count": 72,
     "metadata": {},
     "output_type": "execute_result"
    }
   ],
   "source": [
    "casos_e_mortes_confirmados.tail()"
   ]
  },
  {
   "cell_type": "markdown",
   "metadata": {},
   "source": [
    "# Plotando Gráficos"
   ]
  },
  {
   "cell_type": "markdown",
   "metadata": {},
   "source": [
    "## Gráficos - Casos totais"
   ]
  },
  {
   "cell_type": "code",
   "execution_count": 18,
   "metadata": {},
   "outputs": [
    {
     "data": {
      "text/plain": [
       "<matplotlib.axes._subplots.AxesSubplot at 0x1f2c6296c40>"
      ]
     },
     "execution_count": 18,
     "metadata": {},
     "output_type": "execute_result"
    },
    {
     "data": {
      "image/png": "[encoded data removed]",
      "text/plain": [
       "<Figure size 432x288 with 1 Axes>"
      ]
     },
     "metadata": {
      "needs_background": "light"
     },
     "output_type": "display_data"
    }
   ],
   "source": [
    "ax = casos_e_mortes_confirmados.plot(grid = True, y = ['Casos','Casos_Media_3' ], logy = True)\n",
    "ax"
   ]
  },
  {
   "cell_type": "markdown",
   "metadata": {},
   "source": [
    "## Gráficos - Mortes totais"
   ]
  },
  {
   "cell_type": "code",
   "execution_count": 19,
   "metadata": {},
   "outputs": [
    {
     "data": {
      "text/plain": [
       "<matplotlib.axes._subplots.AxesSubplot at 0x1f2c648cd30>"
      ]
     },
     "execution_count": 19,
     "metadata": {},
     "output_type": "execute_result"
    },
    {
     "data": {
      "image/png": "[encoded data removed]",
      "text/plain": [
       "<Figure size 432x288 with 1 Axes>"
      ]
     },
     "metadata": {
      "needs_background": "light"
     },
     "output_type": "display_data"
    }
   ],
   "source": [
    "ax = casos_e_mortes_confirmados.plot(grid = True, y = ['Mortes', 'Mortes_Media_3'], logy = True)\n",
    "ax"
   ]
  },
  {
   "cell_type": "markdown",
   "metadata": {},
   "source": [
    "## Gráficos - Taxa de casos"
   ]
  },
  {
   "cell_type": "code",
   "execution_count": 73,
   "metadata": {},
   "outputs": [
    {
     "data": {
      "text/plain": [
       "<matplotlib.axes._subplots.AxesSubplot at 0x1775de69850>"
      ]
     },
     "execution_count": 73,
     "metadata": {},
     "output_type": "execute_result"
    },
    {
     "data": {
      "image/png": "[encoded data removed]",
      "text/plain": [
       "<Figure size 432x288 with 1 Axes>"
      ]
     },
     "metadata": {
      "needs_background": "light"
     },
     "output_type": "display_data"
    }
   ],
   "source": [
    "ax = casos_e_mortes_confirmados.plot(grid = True, y = 'Taxa_Casos_Media_3', logy = True)\n",
    "ax"
   ]
  },
  {
   "cell_type": "markdown",
   "metadata": {},
   "source": [
    "## Verificando todos os paises diponíveis"
   ]
  },
  {
   "cell_type": "code",
   "execution_count": 20,
   "metadata": {},
   "outputs": [],
   "source": [
    "all_data = covid19.getAll()\n",
    "all_data['locations']\n",
    "df = pd.DataFrame(all_data['locations'])"
   ]
  },
  {
   "cell_type": "code",
   "execution_count": 21,
   "metadata": {},
   "outputs": [
    {
     "data": {
      "text/plain": [
       "array(['Afghanistan', 'Albania', 'Algeria', 'Andorra', 'Angola',\n",
       "       'Antigua and Barbuda', 'Argentina', 'Armenia', 'Australia',\n",
       "       'Austria', 'Azerbaijan', 'Bahamas', 'Bahrain', 'Bangladesh',\n",
       "       'Barbados', 'Belarus', 'Belgium', 'Benin', 'Bhutan', 'Bolivia',\n",
       "       'Bosnia and Herzegovina', 'Brazil', 'Brunei', 'Bulgaria',\n",
       "       'Burkina Faso', 'Cabo Verde', 'Cambodia', 'Cameroon', 'Canada',\n",
       "       'Central African Republic', 'Chad', 'Chile', 'China', 'Colombia',\n",
       "       'Congo (Brazzaville)', 'Congo (Kinshasa)', 'Costa Rica',\n",
       "       \"Cote d'Ivoire\", 'Croatia', 'Diamond Princess', 'Cuba', 'Cyprus',\n",
       "       'Czechia', 'Denmark', 'Djibouti', 'Dominican Republic', 'Ecuador',\n",
       "       'Egypt', 'El Salvador', 'Equatorial Guinea', 'Eritrea', 'Estonia',\n",
       "       'Eswatini', 'Ethiopia', 'Fiji', 'Finland', 'France', 'Gabon',\n",
       "       'Gambia', 'Georgia', 'Germany', 'Ghana', 'Greece', 'Guatemala',\n",
       "       'Guinea', 'Guyana', 'Haiti', 'Holy See', 'Honduras', 'Hungary',\n",
       "       'Iceland', 'India', 'Indonesia', 'Iran', 'Iraq', 'Ireland',\n",
       "       'Israel', 'Italy', 'Jamaica', 'Japan', 'Jordan', 'Kazakhstan',\n",
       "       'Kenya', 'Korea, South', 'Kuwait', 'Kyrgyzstan', 'Latvia',\n",
       "       'Lebanon', 'Liberia', 'Liechtenstein', 'Lithuania', 'Luxembourg',\n",
       "       'Madagascar', 'Malaysia', 'Maldives', 'Malta', 'Mauritania',\n",
       "       'Mauritius', 'Mexico', 'Moldova', 'Monaco', 'Mongolia',\n",
       "       'Montenegro', 'Morocco', 'Namibia', 'Nepal', 'Netherlands',\n",
       "       'New Zealand', 'Nicaragua', 'Niger', 'Nigeria', 'North Macedonia',\n",
       "       'Norway', 'Oman', 'Pakistan', 'Panama', 'Papua New Guinea',\n",
       "       'Paraguay', 'Peru', 'Philippines', 'Poland', 'Portugal', 'Qatar',\n",
       "       'Romania', 'Russia', 'Rwanda', 'Saint Lucia',\n",
       "       'Saint Vincent and the Grenadines', 'San Marino', 'Saudi Arabia',\n",
       "       'Senegal', 'Serbia', 'Seychelles', 'Singapore', 'Slovakia',\n",
       "       'Slovenia', 'Somalia', 'South Africa', 'Spain', 'Sri Lanka',\n",
       "       'Sudan', 'Suriname', 'Sweden', 'Switzerland', 'Taiwan*',\n",
       "       'Tanzania', 'Thailand', 'Togo', 'Trinidad and Tobago', 'Tunisia',\n",
       "       'Turkey', 'Uganda', 'Ukraine', 'United Arab Emirates',\n",
       "       'United Kingdom', 'Uruguay', 'US', 'Uzbekistan', 'Venezuela',\n",
       "       'Vietnam', 'Zambia', 'Zimbabwe', 'Dominica', 'Grenada',\n",
       "       'Mozambique', 'Syria', 'Timor-Leste', 'Belize', 'Laos', 'Libya',\n",
       "       'West Bank and Gaza', 'Guinea-Bissau', 'Mali',\n",
       "       'Saint Kitts and Nevis', 'Kosovo', 'Burma', 'MS Zaandam',\n",
       "       'Botswana', 'Burundi', 'Sierra Leone', 'Malawi', 'South Sudan',\n",
       "       'Western Sahara', 'Sao Tome and Principe', 'Yemen'], dtype=object)"
      ]
     },
     "execution_count": 21,
     "metadata": {},
     "output_type": "execute_result"
    }
   ],
   "source": [
    "df['country'].unique()"
   ]
  },
  {
   "cell_type": "markdown",
   "metadata": {},
   "source": [
    "### Obtendo o codigos"
   ]
  },
  {
   "cell_type": "code",
   "execution_count": 22,
   "metadata": {},
   "outputs": [
    {
     "data": {
      "text/html": [
       "<div>\n",
       "<style scoped>\n",
       "    .dataframe tbody tr th:only-of-type {\n",
       "        vertical-align: middle;\n",
       "    }\n",
       "\n",
       "    .dataframe tbody tr th {\n",
       "        vertical-align: top;\n",
       "    }\n",
       "\n",
       "    .dataframe thead th {\n",
       "        text-align: right;\n",
       "    }\n",
       "</style>\n",
       "<table border=\"1\" class=\"dataframe\">\n",
       "  <thead>\n",
       "    <tr style=\"text-align: right;\">\n",
       "      <th></th>\n",
       "      <th>id</th>\n",
       "      <th>country</th>\n",
       "      <th>country_code</th>\n",
       "      <th>country_population</th>\n",
       "      <th>province</th>\n",
       "      <th>last_updated</th>\n",
       "      <th>coordinates</th>\n",
       "      <th>latest</th>\n",
       "    </tr>\n",
       "  </thead>\n",
       "  <tbody>\n",
       "    <tr>\n",
       "      <th>28</th>\n",
       "      <td>28</td>\n",
       "      <td>Brazil</td>\n",
       "      <td>BR</td>\n",
       "      <td>201103330.0</td>\n",
       "      <td></td>\n",
       "      <td>2020-04-15T19:00:50.961309Z</td>\n",
       "      <td>{'latitude': '-14.235', 'longitude': '-51.9253'}</td>\n",
       "      <td>{'confirmed': 25262, 'deaths': 1532, 'recovere...</td>\n",
       "    </tr>\n",
       "  </tbody>\n",
       "</table>\n",
       "</div>"
      ],
      "text/plain": [
       "    id country country_code  country_population province  \\\n",
       "28  28  Brazil           BR         201103330.0            \n",
       "\n",
       "                   last_updated  \\\n",
       "28  2020-04-15T19:00:50.961309Z   \n",
       "\n",
       "                                         coordinates  \\\n",
       "28  {'latitude': '-14.235', 'longitude': '-51.9253'}   \n",
       "\n",
       "                                               latest  \n",
       "28  {'confirmed': 25262, 'deaths': 1532, 'recovere...  "
      ]
     },
     "execution_count": 22,
     "metadata": {},
     "output_type": "execute_result"
    }
   ],
   "source": [
    "df[ df.country == 'Brazil']"
   ]
  },
  {
   "cell_type": "code",
   "execution_count": 23,
   "metadata": {},
   "outputs": [
    {
     "data": {
      "text/html": [
       "<div>\n",
       "<style scoped>\n",
       "    .dataframe tbody tr th:only-of-type {\n",
       "        vertical-align: middle;\n",
       "    }\n",
       "\n",
       "    .dataframe tbody tr th {\n",
       "        vertical-align: top;\n",
       "    }\n",
       "\n",
       "    .dataframe thead th {\n",
       "        text-align: right;\n",
       "    }\n",
       "</style>\n",
       "<table border=\"1\" class=\"dataframe\">\n",
       "  <thead>\n",
       "    <tr style=\"text-align: right;\">\n",
       "      <th></th>\n",
       "      <th>id</th>\n",
       "      <th>country</th>\n",
       "      <th>country_code</th>\n",
       "      <th>country_population</th>\n",
       "      <th>province</th>\n",
       "      <th>last_updated</th>\n",
       "      <th>coordinates</th>\n",
       "      <th>latest</th>\n",
       "    </tr>\n",
       "  </thead>\n",
       "  <tbody>\n",
       "    <tr>\n",
       "      <th>201</th>\n",
       "      <td>201</td>\n",
       "      <td>Spain</td>\n",
       "      <td>ES</td>\n",
       "      <td>46505963.0</td>\n",
       "      <td></td>\n",
       "      <td>2020-04-15T19:00:51.572257Z</td>\n",
       "      <td>{'latitude': '40', 'longitude': '-4'}</td>\n",
       "      <td>{'confirmed': 172541, 'deaths': 18056, 'recove...</td>\n",
       "    </tr>\n",
       "  </tbody>\n",
       "</table>\n",
       "</div>"
      ],
      "text/plain": [
       "      id country country_code  country_population province  \\\n",
       "201  201   Spain           ES          46505963.0            \n",
       "\n",
       "                    last_updated                            coordinates  \\\n",
       "201  2020-04-15T19:00:51.572257Z  {'latitude': '40', 'longitude': '-4'}   \n",
       "\n",
       "                                                latest  \n",
       "201  {'confirmed': 172541, 'deaths': 18056, 'recove...  "
      ]
     },
     "execution_count": 23,
     "metadata": {},
     "output_type": "execute_result"
    }
   ],
   "source": [
    "df[ df.country == 'Spain']"
   ]
  },
  {
   "cell_type": "code",
   "execution_count": 24,
   "metadata": {},
   "outputs": [
    {
     "data": {
      "text/html": [
       "<div>\n",
       "<style scoped>\n",
       "    .dataframe tbody tr th:only-of-type {\n",
       "        vertical-align: middle;\n",
       "    }\n",
       "\n",
       "    .dataframe tbody tr th {\n",
       "        vertical-align: top;\n",
       "    }\n",
       "\n",
       "    .dataframe thead th {\n",
       "        text-align: right;\n",
       "    }\n",
       "</style>\n",
       "<table border=\"1\" class=\"dataframe\">\n",
       "  <thead>\n",
       "    <tr style=\"text-align: right;\">\n",
       "      <th></th>\n",
       "      <th>id</th>\n",
       "      <th>country</th>\n",
       "      <th>country_code</th>\n",
       "      <th>country_population</th>\n",
       "      <th>province</th>\n",
       "      <th>last_updated</th>\n",
       "      <th>coordinates</th>\n",
       "      <th>latest</th>\n",
       "    </tr>\n",
       "  </thead>\n",
       "  <tbody>\n",
       "    <tr>\n",
       "      <th>137</th>\n",
       "      <td>137</td>\n",
       "      <td>Italy</td>\n",
       "      <td>IT</td>\n",
       "      <td>60340328.0</td>\n",
       "      <td></td>\n",
       "      <td>2020-04-15T19:00:51.340254Z</td>\n",
       "      <td>{'latitude': '43', 'longitude': '12'}</td>\n",
       "      <td>{'confirmed': 162488, 'deaths': 21067, 'recove...</td>\n",
       "    </tr>\n",
       "  </tbody>\n",
       "</table>\n",
       "</div>"
      ],
      "text/plain": [
       "      id country country_code  country_population province  \\\n",
       "137  137   Italy           IT          60340328.0            \n",
       "\n",
       "                    last_updated                            coordinates  \\\n",
       "137  2020-04-15T19:00:51.340254Z  {'latitude': '43', 'longitude': '12'}   \n",
       "\n",
       "                                                latest  \n",
       "137  {'confirmed': 162488, 'deaths': 21067, 'recove...  "
      ]
     },
     "execution_count": 24,
     "metadata": {},
     "output_type": "execute_result"
    }
   ],
   "source": [
    "df[ df.country == 'Italy']"
   ]
  },
  {
   "cell_type": "code",
   "execution_count": 25,
   "metadata": {},
   "outputs": [
    {
     "data": {
      "text/html": [
       "<div>\n",
       "<style scoped>\n",
       "    .dataframe tbody tr th:only-of-type {\n",
       "        vertical-align: middle;\n",
       "    }\n",
       "\n",
       "    .dataframe tbody tr th {\n",
       "        vertical-align: top;\n",
       "    }\n",
       "\n",
       "    .dataframe thead th {\n",
       "        text-align: right;\n",
       "    }\n",
       "</style>\n",
       "<table border=\"1\" class=\"dataframe\">\n",
       "  <thead>\n",
       "    <tr style=\"text-align: right;\">\n",
       "      <th></th>\n",
       "      <th>id</th>\n",
       "      <th>country</th>\n",
       "      <th>country_code</th>\n",
       "      <th>country_population</th>\n",
       "      <th>province</th>\n",
       "      <th>last_updated</th>\n",
       "      <th>coordinates</th>\n",
       "      <th>latest</th>\n",
       "    </tr>\n",
       "  </thead>\n",
       "  <tbody>\n",
       "    <tr>\n",
       "      <th>120</th>\n",
       "      <td>120</td>\n",
       "      <td>Germany</td>\n",
       "      <td>DE</td>\n",
       "      <td>81802257.0</td>\n",
       "      <td></td>\n",
       "      <td>2020-04-15T19:00:51.282943Z</td>\n",
       "      <td>{'latitude': '51', 'longitude': '9'}</td>\n",
       "      <td>{'confirmed': 131359, 'deaths': 3294, 'recover...</td>\n",
       "    </tr>\n",
       "  </tbody>\n",
       "</table>\n",
       "</div>"
      ],
      "text/plain": [
       "      id  country country_code  country_population province  \\\n",
       "120  120  Germany           DE          81802257.0            \n",
       "\n",
       "                    last_updated                           coordinates  \\\n",
       "120  2020-04-15T19:00:51.282943Z  {'latitude': '51', 'longitude': '9'}   \n",
       "\n",
       "                                                latest  \n",
       "120  {'confirmed': 131359, 'deaths': 3294, 'recover...  "
      ]
     },
     "execution_count": 25,
     "metadata": {},
     "output_type": "execute_result"
    }
   ],
   "source": [
    "df[ df.country == 'Germany']"
   ]
  },
  {
   "cell_type": "code",
   "execution_count": 26,
   "metadata": {},
   "outputs": [
    {
     "data": {
      "text/html": [
       "<div>\n",
       "<style scoped>\n",
       "    .dataframe tbody tr th:only-of-type {\n",
       "        vertical-align: middle;\n",
       "    }\n",
       "\n",
       "    .dataframe tbody tr th {\n",
       "        vertical-align: top;\n",
       "    }\n",
       "\n",
       "    .dataframe thead th {\n",
       "        text-align: right;\n",
       "    }\n",
       "</style>\n",
       "<table border=\"1\" class=\"dataframe\">\n",
       "  <thead>\n",
       "    <tr style=\"text-align: right;\">\n",
       "      <th></th>\n",
       "      <th>id</th>\n",
       "      <th>country</th>\n",
       "      <th>country_code</th>\n",
       "      <th>country_population</th>\n",
       "      <th>province</th>\n",
       "      <th>last_updated</th>\n",
       "      <th>coordinates</th>\n",
       "      <th>latest</th>\n",
       "    </tr>\n",
       "  </thead>\n",
       "  <tbody>\n",
       "    <tr>\n",
       "      <th>225</th>\n",
       "      <td>225</td>\n",
       "      <td>US</td>\n",
       "      <td>US</td>\n",
       "      <td>310232863.0</td>\n",
       "      <td></td>\n",
       "      <td>2020-04-15T19:00:51.671099Z</td>\n",
       "      <td>{'latitude': '37.0902', 'longitude': '-95.7129'}</td>\n",
       "      <td>{'confirmed': 607670, 'deaths': 25832, 'recove...</td>\n",
       "    </tr>\n",
       "  </tbody>\n",
       "</table>\n",
       "</div>"
      ],
      "text/plain": [
       "      id country country_code  country_population province  \\\n",
       "225  225      US           US         310232863.0            \n",
       "\n",
       "                    last_updated  \\\n",
       "225  2020-04-15T19:00:51.671099Z   \n",
       "\n",
       "                                          coordinates  \\\n",
       "225  {'latitude': '37.0902', 'longitude': '-95.7129'}   \n",
       "\n",
       "                                                latest  \n",
       "225  {'confirmed': 607670, 'deaths': 25832, 'recove...  "
      ]
     },
     "execution_count": 26,
     "metadata": {},
     "output_type": "execute_result"
    }
   ],
   "source": [
    "df[ df.country == 'US']"
   ]
  },
  {
   "cell_type": "code",
   "execution_count": 21,
   "metadata": {},
   "outputs": [
    {
     "data": {
      "text/html": [
       "<div>\n",
       "<style scoped>\n",
       "    .dataframe tbody tr th:only-of-type {\n",
       "        vertical-align: middle;\n",
       "    }\n",
       "\n",
       "    .dataframe tbody tr th {\n",
       "        vertical-align: top;\n",
       "    }\n",
       "\n",
       "    .dataframe thead th {\n",
       "        text-align: right;\n",
       "    }\n",
       "</style>\n",
       "<table border=\"1\" class=\"dataframe\">\n",
       "  <thead>\n",
       "    <tr style=\"text-align: right;\">\n",
       "      <th></th>\n",
       "      <th>id</th>\n",
       "      <th>country</th>\n",
       "      <th>country_code</th>\n",
       "      <th>country_population</th>\n",
       "      <th>province</th>\n",
       "      <th>last_updated</th>\n",
       "      <th>coordinates</th>\n",
       "      <th>latest</th>\n",
       "    </tr>\n",
       "  </thead>\n",
       "  <tbody>\n",
       "    <tr>\n",
       "      <th>213</th>\n",
       "      <td>213</td>\n",
       "      <td>Turkey</td>\n",
       "      <td>TR</td>\n",
       "      <td>77804122.0</td>\n",
       "      <td></td>\n",
       "      <td>2020-04-15T19:00:51.618746Z</td>\n",
       "      <td>{'latitude': '38.9637', 'longitude': '35.2433'}</td>\n",
       "      <td>{'confirmed': 65111, 'deaths': 1403, 'recovere...</td>\n",
       "    </tr>\n",
       "  </tbody>\n",
       "</table>\n",
       "</div>"
      ],
      "text/plain": [
       "      id country country_code  country_population province  \\\n",
       "213  213  Turkey           TR          77804122.0            \n",
       "\n",
       "                    last_updated  \\\n",
       "213  2020-04-15T19:00:51.618746Z   \n",
       "\n",
       "                                         coordinates  \\\n",
       "213  {'latitude': '38.9637', 'longitude': '35.2433'}   \n",
       "\n",
       "                                                latest  \n",
       "213  {'confirmed': 65111, 'deaths': 1403, 'recovere...  "
      ]
     },
     "execution_count": 21,
     "metadata": {},
     "output_type": "execute_result"
    }
   ],
   "source": [
    "df[df.country == 'Turkey']"
   ]
  },
  {
   "cell_type": "code",
   "execution_count": 23,
   "metadata": {},
   "outputs": [
    {
     "data": {
      "text/html": [
       "<div>\n",
       "<style scoped>\n",
       "    .dataframe tbody tr th:only-of-type {\n",
       "        vertical-align: middle;\n",
       "    }\n",
       "\n",
       "    .dataframe tbody tr th {\n",
       "        vertical-align: top;\n",
       "    }\n",
       "\n",
       "    .dataframe thead th {\n",
       "        text-align: right;\n",
       "    }\n",
       "</style>\n",
       "<table border=\"1\" class=\"dataframe\">\n",
       "  <thead>\n",
       "    <tr style=\"text-align: right;\">\n",
       "      <th></th>\n",
       "      <th>id</th>\n",
       "      <th>country</th>\n",
       "      <th>country_code</th>\n",
       "      <th>country_population</th>\n",
       "      <th>province</th>\n",
       "      <th>last_updated</th>\n",
       "      <th>coordinates</th>\n",
       "      <th>latest</th>\n",
       "    </tr>\n",
       "  </thead>\n",
       "  <tbody>\n",
       "    <tr>\n",
       "      <th>200</th>\n",
       "      <td>200</td>\n",
       "      <td>South Africa</td>\n",
       "      <td>ZA</td>\n",
       "      <td>49000000.0</td>\n",
       "      <td></td>\n",
       "      <td>2020-04-15T19:00:51.568879Z</td>\n",
       "      <td>{'latitude': '-30.5595', 'longitude': '22.9375'}</td>\n",
       "      <td>{'confirmed': 2415, 'deaths': 27, 'recovered': 0}</td>\n",
       "    </tr>\n",
       "  </tbody>\n",
       "</table>\n",
       "</div>"
      ],
      "text/plain": [
       "      id       country country_code  country_population province  \\\n",
       "200  200  South Africa           ZA          49000000.0            \n",
       "\n",
       "                    last_updated  \\\n",
       "200  2020-04-15T19:00:51.568879Z   \n",
       "\n",
       "                                          coordinates  \\\n",
       "200  {'latitude': '-30.5595', 'longitude': '22.9375'}   \n",
       "\n",
       "                                                latest  \n",
       "200  {'confirmed': 2415, 'deaths': 27, 'recovered': 0}  "
      ]
     },
     "execution_count": 23,
     "metadata": {},
     "output_type": "execute_result"
    }
   ],
   "source": [
    "df[df.country == 'South Africa']"
   ]
  },
  {
   "cell_type": "code",
   "execution_count": 27,
   "metadata": {},
   "outputs": [
    {
     "data": {
      "text/html": [
       "<div>\n",
       "<style scoped>\n",
       "    .dataframe tbody tr th:only-of-type {\n",
       "        vertical-align: middle;\n",
       "    }\n",
       "\n",
       "    .dataframe tbody tr th {\n",
       "        vertical-align: top;\n",
       "    }\n",
       "\n",
       "    .dataframe thead th {\n",
       "        text-align: right;\n",
       "    }\n",
       "</style>\n",
       "<table border=\"1\" class=\"dataframe\">\n",
       "  <thead>\n",
       "    <tr style=\"text-align: right;\">\n",
       "      <th></th>\n",
       "      <th>id</th>\n",
       "      <th>country</th>\n",
       "      <th>country_code</th>\n",
       "      <th>country_population</th>\n",
       "      <th>province</th>\n",
       "      <th>last_updated</th>\n",
       "      <th>coordinates</th>\n",
       "      <th>latest</th>\n",
       "    </tr>\n",
       "  </thead>\n",
       "  <tbody>\n",
       "    <tr>\n",
       "      <th>143</th>\n",
       "      <td>143</td>\n",
       "      <td>Korea, South</td>\n",
       "      <td>KR</td>\n",
       "      <td>48422644.0</td>\n",
       "      <td></td>\n",
       "      <td>2020-04-15T19:00:51.360507Z</td>\n",
       "      <td>{'latitude': '36', 'longitude': '128'}</td>\n",
       "      <td>{'confirmed': 10564, 'deaths': 222, 'recovered...</td>\n",
       "    </tr>\n",
       "  </tbody>\n",
       "</table>\n",
       "</div>"
      ],
      "text/plain": [
       "      id       country country_code  country_population province  \\\n",
       "143  143  Korea, South           KR          48422644.0            \n",
       "\n",
       "                    last_updated                             coordinates  \\\n",
       "143  2020-04-15T19:00:51.360507Z  {'latitude': '36', 'longitude': '128'}   \n",
       "\n",
       "                                                latest  \n",
       "143  {'confirmed': 10564, 'deaths': 222, 'recovered...  "
      ]
     },
     "execution_count": 27,
     "metadata": {},
     "output_type": "execute_result"
    }
   ],
   "source": [
    "df[df.country == 'Korea, South']"
   ]
  },
  {
   "cell_type": "code",
   "execution_count": null,
   "metadata": {},
   "outputs": [],
   "source": []
  }
 ],
 "metadata": {
  "kernelspec": {
   "display_name": "Python 3",
   "language": "python",
   "name": "python3"
  },
  "language_info": {
   "codemirror_mode": {
    "name": "ipython",
    "version": 3
   },
   "file_extension": ".py",
   "mimetype": "text/x-python",
   "name": "python",
   "nbconvert_exporter": "python",
   "pygments_lexer": "ipython3",
   "version": "3.8.2"
  }
 },
 "nbformat": 4,
 "nbformat_minor": 4
}
